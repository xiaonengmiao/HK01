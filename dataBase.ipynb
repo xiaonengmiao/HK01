{
 "cells": [
  {
   "cell_type": "markdown",
   "metadata": {
    "collapsed": true
   },
   "source": [
    "# Question A. Data Analysis"
   ]
  },
  {
   "cell_type": "code",
   "execution_count": 111,
   "metadata": {
    "collapsed": true
   },
   "outputs": [],
   "source": [
    "import sqlite3\n",
    "import os\n",
    "conn = sqlite3.connect('webvisit.sqlite')\n",
    "c = conn.cursor()"
   ]
  },
  {
   "cell_type": "code",
   "execution_count": 101,
   "metadata": {
    "collapsed": true
   },
   "outputs": [],
   "source": [
    "try:\n",
    "    c.execute('CREATE TABLE webvisit_db (userid INTEGER, pageid INTEGER, hh INTEGER, mm INTEGER, ss INTEGER)')\n",
    "except:\n",
    "    pass"
   ]
  },
  {
   "cell_type": "code",
   "execution_count": 102,
   "metadata": {
    "collapsed": false
   },
   "outputs": [],
   "source": [
    "import csv\n",
    "from functools import reduce\n",
    "with open('junior-data-test.csv', 'rt') as csvfile:\n",
    "    dr = csv.reader(csvfile, delimiter=',', quotechar='|')\n",
    "    for t in dr:\n",
    "        tt = [s.split(\":\") for s in t]\n",
    "        ts = reduce(lambda x, y: x+y, tt)\n",
    "        c.execute('INSERT INTO webvisit_db VALUES (?,?,?,?,?)', ts)\n",
    "conn.commit()\n",
    "conn.close()"
   ]
  },
  {
   "cell_type": "code",
   "execution_count": 103,
   "metadata": {
    "collapsed": false
   },
   "outputs": [
    {
     "name": "stdout",
     "output_type": "stream",
     "text": [
      "Visits in the data set:\n",
      "357912\n"
     ]
    }
   ],
   "source": [
    "# Q.A How many visits are in the data set?\n",
    "conn = sqlite3.connect('webvisit.sqlite')\n",
    "c = conn.cursor()\n",
    "c.execute('SELECT COUNT(*) FROM webvisit_db')\n",
    "result = c.fetchall()\n",
    "conn.close()\n",
    "print('Visits in the data set:')\n",
    "print(result[0][0])"
   ]
  },
  {
   "cell_type": "code",
   "execution_count": 104,
   "metadata": {
    "collapsed": false
   },
   "outputs": [
    {
     "name": "stdout",
     "output_type": "stream",
     "text": [
      "Distinct users are in the data set:\n",
      "64265\n"
     ]
    }
   ],
   "source": [
    "# Q.A How many distinct users are in the data set?\n",
    "conn = sqlite3.connect('webvisit.sqlite')\n",
    "c = conn.cursor()\n",
    "c.execute('SELECT COUNT(DISTINCT userid) FROM webvisit_db')\n",
    "result = c.fetchall()\n",
    "conn.close()\n",
    "print('Distinct users are in the data set:')\n",
    "print(result[0][0])"
   ]
  },
  {
   "cell_type": "code",
   "execution_count": 105,
   "metadata": {
    "collapsed": false
   },
   "outputs": [
    {
     "name": "stdout",
     "output_type": "stream",
     "text": [
      "Distinct pages in the data set:\n",
      "15163\n"
     ]
    }
   ],
   "source": [
    "# Q.A How many distinct pages are in the data set?\n",
    "conn = sqlite3.connect('webvisit.sqlite')\n",
    "c = conn.cursor()\n",
    "c.execute('SELECT COUNT(DISTINCT pageid) FROM webvisit_db')\n",
    "result = c.fetchall()\n",
    "conn.close()\n",
    "print('Distinct pages in the data set:')\n",
    "print(result[0][0])"
   ]
  },
  {
   "cell_type": "code",
   "execution_count": 106,
   "metadata": {
    "collapsed": false
   },
   "outputs": [
    {
     "name": "stdout",
     "output_type": "stream",
     "text": [
      "Hour gives the smallest number of visits:\n",
      "4:00:00 - 4:59:59\n"
     ]
    }
   ],
   "source": [
    "# Q.A Which hour gives the smallest number of visits?\n",
    "conn = sqlite3.connect('webvisit.sqlite')\n",
    "c = conn.cursor()\n",
    "hcount = []\n",
    "for hour in range(24):\n",
    "    c.execute('SELECT COUNT(*) FROM webvisit_db WHERE hh==%d' % hour)\n",
    "    hcount.append(c.fetchall()[0][0])\n",
    "conn.close()\n",
    "print('Hour gives the smallest number of visits:')\n",
    "print('%d:00:00 - %d:59:59' % (hcount.index(min(hcount)), hcount.index(min(hcount))))"
   ]
  },
  {
   "cell_type": "code",
   "execution_count": 107,
   "metadata": {
    "collapsed": false
   },
   "outputs": [
    {
     "name": "stdout",
     "output_type": "stream",
     "text": [
      "Hour gives the largest number of visits:\n",
      "12:00:00 - 12:59:59\n"
     ]
    }
   ],
   "source": [
    "# Q.A Which hour gives the largest number of visits?\n",
    "print('Hour gives the largest number of visits:')\n",
    "print('%d:00:00 - %d:59:59' % (hcount.index(max(hcount)), hcount.index(max(hcount))))"
   ]
  },
  {
   "cell_type": "code",
   "execution_count": 110,
   "metadata": {
    "collapsed": false
   },
   "outputs": [
    {
     "name": "stdout",
     "output_type": "stream",
     "text": [
      "Largest number of visits in the data set and corresponding number of visits:\n",
      "(6819, 15163)\n"
     ]
    }
   ],
   "source": [
    "# Q.A Which page has the largest number of visits in the data set? What is the corresponding number of visits?\n",
    "conn = sqlite3.connect('webvisit.sqlite')\n",
    "c = conn.cursor()\n",
    "c.execute('SELECT pageid, MAX(DISTINCT(pageid)) FROM webvisit_db')\n",
    "result = c.fetchall()\n",
    "conn.close()\n",
    "print('Largest number of visits in the data set and corresponding number of visits:')\n",
    "print(result[0])"
   ]
  },
  {
   "cell_type": "markdown",
   "metadata": {
    "collapsed": false
   },
   "source": [
    "# Question B. Data Visualization"
   ]
  },
  {
   "cell_type": "code",
   "execution_count": 93,
   "metadata": {
    "collapsed": false
   },
   "outputs": [
    {
     "data": {
      "text/plain": [
       "[1, 2, 3]"
      ]
     },
     "execution_count": 93,
     "metadata": {},
     "output_type": "execute_result"
    }
   ],
   "source": [
    "[1,2]+[3]"
   ]
  },
  {
   "cell_type": "code",
   "execution_count": null,
   "metadata": {
    "collapsed": true
   },
   "outputs": [],
   "source": []
  }
 ],
 "metadata": {
  "kernelspec": {
   "display_name": "Python 3",
   "language": "python",
   "name": "python3"
  },
  "language_info": {
   "codemirror_mode": {
    "name": "ipython",
    "version": 3
   },
   "file_extension": ".py",
   "mimetype": "text/x-python",
   "name": "python",
   "nbconvert_exporter": "python",
   "pygments_lexer": "ipython3",
   "version": "3.6.4"
  }
 },
 "nbformat": 4,
 "nbformat_minor": 2
}
