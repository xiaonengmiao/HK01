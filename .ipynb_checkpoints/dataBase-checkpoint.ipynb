{
 "cells": [
  {
   "cell_type": "code",
   "execution_count": 9,
   "metadata": {
    "collapsed": true
   },
   "outputs": [],
   "source": [
    "import sqlite3\n",
    "import os\n",
    "conn = sqlite3.connect('webvisit.sqlite')\n",
    "c = conn.cursor()"
   ]
  },
  {
   "cell_type": "code",
   "execution_count": 10,
   "metadata": {
    "collapsed": false
   },
   "outputs": [
    {
     "data": {
      "text/plain": [
       "<sqlite3.Cursor at 0x10feafe30>"
      ]
     },
     "execution_count": 10,
     "metadata": {},
     "output_type": "execute_result"
    }
   ],
   "source": [
    "c.execute('CREATE TABLE webvisit_db (userid INTEGER, pageid INTEGER, visitime TEXT)')"
   ]
  },
  {
   "cell_type": "code",
   "execution_count": 11,
   "metadata": {
    "collapsed": false
   },
   "outputs": [],
   "source": [
    "import csv\n",
    "with open('junior-data-test.csv', 'rt') as csvfile:\n",
    "    dr = csv.reader(csvfile, delimiter=',', quotechar='|')\n",
    "    for t in dr:\n",
    "        c.execute('INSERT INTO webvisit_db VALUES (?,?,?)', t)\n",
    "conn.commit()\n",
    "conn.close()"
   ]
  },
  {
   "cell_type": "code",
   "execution_count": 63,
   "metadata": {
    "collapsed": false
   },
   "outputs": [
    {
     "name": "stdout",
     "output_type": "stream",
     "text": [
      "357912\n"
     ]
    }
   ],
   "source": [
    "# Q.A How many visits are in the data set?\n",
    "conn = sqlite3.connect('webvisit.sqlite')\n",
    "c = conn.cursor()\n",
    "c.execute('SELECT COUNT(*) FROM webvisit_db')\n",
    "result = c.fetchall()\n",
    "conn.close()\n",
    "print(result[0][0])"
   ]
  },
  {
   "cell_type": "code",
   "execution_count": 45,
   "metadata": {
    "collapsed": false
   },
   "outputs": [
    {
     "name": "stdout",
     "output_type": "stream",
     "text": [
      "64265\n"
     ]
    }
   ],
   "source": [
    "# Q.A How many distinct users are in the data set?\n",
    "conn = sqlite3.connect('webvisit.sqlite')\n",
    "c = conn.cursor()\n",
    "c.execute('SELECT COUNT(DISTINCT userid) FROM webvisit_db')\n",
    "result = c.fetchall()\n",
    "conn.close()\n",
    "print(result[0][0])"
   ]
  },
  {
   "cell_type": "code",
   "execution_count": 34,
   "metadata": {
    "collapsed": false
   },
   "outputs": [
    {
     "name": "stdout",
     "output_type": "stream",
     "text": [
      "15163\n"
     ]
    }
   ],
   "source": [
    "# Q.A How many distinct pages are in the data set?\n",
    "conn = sqlite3.connect('webvisit.sqlite')\n",
    "c = conn.cursor()\n",
    "c.execute('SELECT COUNT(DISTINCT pageid) FROM webvisit_db')\n",
    "result = c.fetchall()\n",
    "conn.close()\n",
    "print(result[0][0])"
   ]
  },
  {
   "cell_type": "code",
   "execution_count": 82,
   "metadata": {
    "collapsed": false
   },
   "outputs": [
    {
     "name": "stdout",
     "output_type": "stream",
     "text": [
      "[]\n"
     ]
    }
   ],
   "source": [
    "# Q.A Which hour gives the smallest number of visits?\n",
    "conn = sqlite3.connect('webvisit.sqlite')\n",
    "c = conn.cursor()\n",
    "c.execute('')\n",
    "result = c.fetchall()\n",
    "conn.close()\n",
    "print(result)"
   ]
  },
  {
   "cell_type": "code",
   "execution_count": 85,
   "metadata": {
    "collapsed": false
   },
   "outputs": [
    {
     "name": "stdout",
     "output_type": "stream",
     "text": [
      "[]\n"
     ]
    }
   ],
   "source": [
    "# Q.A Which hour gives the largest number of visits?\n",
    "conn = sqlite3.connect('webvisit.sqlite')\n",
    "c = conn.cursor()\n",
    "c.execute('')\n",
    "result = c.fetchall()\n",
    "conn.close()\n",
    "print(result)"
   ]
  },
  {
   "cell_type": "code",
   "execution_count": 81,
   "metadata": {
    "collapsed": false
   },
   "outputs": [
    {
     "name": "stdout",
     "output_type": "stream",
     "text": [
      "(6819, 15163) --(id, number of visit)\n"
     ]
    }
   ],
   "source": [
    "# Q.A Which page has the largest number of visits in the data set? What is the corresponding number of visits?\n",
    "conn = sqlite3.connect('webvisit.sqlite')\n",
    "c = conn.cursor()\n",
    "c.execute('SELECT pageid, MAX(DISTINCT(pageid)) FROM webvisit_db')\n",
    "result = c.fetchall()\n",
    "conn.close()\n",
    "print(result[0], '--(id, number of visit)')"
   ]
  },
  {
   "cell_type": "code",
   "execution_count": null,
   "metadata": {
    "collapsed": true
   },
   "outputs": [],
   "source": []
  }
 ],
 "metadata": {
  "kernelspec": {
   "display_name": "Python 3",
   "language": "python",
   "name": "python3"
  },
  "language_info": {
   "codemirror_mode": {
    "name": "ipython",
    "version": 3
   },
   "file_extension": ".py",
   "mimetype": "text/x-python",
   "name": "python",
   "nbconvert_exporter": "python",
   "pygments_lexer": "ipython3",
   "version": "3.6.4"
  }
 },
 "nbformat": 4,
 "nbformat_minor": 2
}
